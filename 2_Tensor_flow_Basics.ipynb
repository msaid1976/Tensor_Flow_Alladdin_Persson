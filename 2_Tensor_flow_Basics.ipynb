{
  "nbformat": 4,
  "nbformat_minor": 0,
  "metadata": {
    "colab": {
      "provenance": [],
      "gpuType": "T4",
      "authorship_tag": "ABX9TyPCMG27RDZkiqxc3pgtRWEh",
      "include_colab_link": true
    },
    "kernelspec": {
      "name": "python3",
      "display_name": "Python 3"
    },
    "language_info": {
      "name": "python"
    },
    "accelerator": "GPU"
  },
  "cells": [
    {
      "cell_type": "markdown",
      "metadata": {
        "id": "view-in-github",
        "colab_type": "text"
      },
      "source": [
        "<a href=\"https://colab.research.google.com/github/msaid1976/Tensor_Flow_Alladdin_Persson/blob/main/2_Tensor_flow_Basics.ipynb\" target=\"_parent\"><img src=\"https://colab.research.google.com/assets/colab-badge.svg\" alt=\"Open In Colab\"/></a>"
      ]
    },
    {
      "cell_type": "code",
      "execution_count": 3,
      "metadata": {
        "colab": {
          "base_uri": "https://localhost:8080/"
        },
        "id": "xR48sVBk5m10",
        "outputId": "f6893c5c-e8e9-444f-e480-b530ac2ddabc"
      },
      "outputs": [
        {
          "output_type": "stream",
          "name": "stdout",
          "text": [
            "2.12.0\n"
          ]
        }
      ],
      "source": [
        "import tensorflow as tf\n",
        "print (tf.__version__)"
      ]
    },
    {
      "cell_type": "code",
      "source": [
        "import os\n",
        "os.environ['TF_CPP_MIN_LOG_Level'] ='2'"
      ],
      "metadata": {
        "id": "-9fXO9nS5wep"
      },
      "execution_count": 6,
      "outputs": []
    },
    {
      "cell_type": "markdown",
      "source": [
        "# Initialization of *Tensors*"
      ],
      "metadata": {
        "id": "JkSlOed77bNr"
      }
    },
    {
      "cell_type": "code",
      "source": [
        "x= tf.constant(4)\n",
        "print(x)"
      ],
      "metadata": {
        "colab": {
          "base_uri": "https://localhost:8080/"
        },
        "id": "mFj7JiZR8E1y",
        "outputId": "7e219692-d0f9-4f98-97e3-ca207931dc23"
      },
      "execution_count": 7,
      "outputs": [
        {
          "output_type": "stream",
          "name": "stdout",
          "text": [
            "tf.Tensor(4, shape=(), dtype=int32)\n"
          ]
        }
      ]
    },
    {
      "cell_type": "code",
      "source": [
        "x= tf.constant(4.0, shape=(1,1))\n",
        "print(x)"
      ],
      "metadata": {
        "colab": {
          "base_uri": "https://localhost:8080/"
        },
        "id": "pXouVLT68nXt",
        "outputId": "de5e4de1-304f-4ac0-bf1c-f467781200f1"
      },
      "execution_count": 9,
      "outputs": [
        {
          "output_type": "stream",
          "name": "stdout",
          "text": [
            "tf.Tensor([[4.]], shape=(1, 1), dtype=float32)\n"
          ]
        }
      ]
    },
    {
      "cell_type": "code",
      "source": [
        "x= tf.constant(4, shape=(1,1),dtype=tf.float32)\n",
        "print(x)"
      ],
      "metadata": {
        "colab": {
          "base_uri": "https://localhost:8080/"
        },
        "id": "yK3AR0xw8vYx",
        "outputId": "281bfc4e-7031-49f0-83cd-c30b03a4ad85"
      },
      "execution_count": 10,
      "outputs": [
        {
          "output_type": "stream",
          "name": "stdout",
          "text": [
            "tf.Tensor([[4.]], shape=(1, 1), dtype=float32)\n"
          ]
        }
      ]
    },
    {
      "cell_type": "code",
      "source": [
        "x= tf.constant([[1,2,3],[6,7,8]], dtype=tf.int64)\n",
        "print(x)"
      ],
      "metadata": {
        "colab": {
          "base_uri": "https://localhost:8080/"
        },
        "id": "L1iOgPEp_Uuq",
        "outputId": "11cbccb6-7438-4615-b4ba-9d4616ac7a3f"
      },
      "execution_count": 11,
      "outputs": [
        {
          "output_type": "stream",
          "name": "stdout",
          "text": [
            "tf.Tensor(\n",
            "[[1 2 3]\n",
            " [6 7 8]], shape=(2, 3), dtype=int64)\n"
          ]
        }
      ]
    },
    {
      "cell_type": "code",
      "source": [
        "x= tf.ones((3,3))\n",
        "print(x)"
      ],
      "metadata": {
        "colab": {
          "base_uri": "https://localhost:8080/"
        },
        "id": "cg8LViHy_uk0",
        "outputId": "104ed1d3-542c-4939-ed0d-e9a77ec65420"
      },
      "execution_count": 12,
      "outputs": [
        {
          "output_type": "stream",
          "name": "stdout",
          "text": [
            "tf.Tensor(\n",
            "[[1. 1. 1.]\n",
            " [1. 1. 1.]\n",
            " [1. 1. 1.]], shape=(3, 3), dtype=float32)\n"
          ]
        }
      ]
    },
    {
      "cell_type": "code",
      "source": [
        "x= tf.zeros((4,3))\n",
        "print(x)"
      ],
      "metadata": {
        "colab": {
          "base_uri": "https://localhost:8080/"
        },
        "id": "0vx97UE3_3Iy",
        "outputId": "4f9c4833-a06f-4de9-c2e9-533a597a6f4c"
      },
      "execution_count": 15,
      "outputs": [
        {
          "output_type": "stream",
          "name": "stdout",
          "text": [
            "tf.Tensor(\n",
            "[[0. 0. 0.]\n",
            " [0. 0. 0.]\n",
            " [0. 0. 0.]\n",
            " [0. 0. 0.]], shape=(4, 3), dtype=float32)\n"
          ]
        }
      ]
    },
    {
      "cell_type": "code",
      "source": [
        "x= tf.eye(4) # Identity Matrix\n",
        "print(x)"
      ],
      "metadata": {
        "colab": {
          "base_uri": "https://localhost:8080/"
        },
        "id": "Zwidm1wfACV4",
        "outputId": "80162414-5e66-4595-88e7-b0fdeda278af"
      },
      "execution_count": 16,
      "outputs": [
        {
          "output_type": "stream",
          "name": "stdout",
          "text": [
            "tf.Tensor(\n",
            "[[1. 0. 0. 0.]\n",
            " [0. 1. 0. 0.]\n",
            " [0. 0. 1. 0.]\n",
            " [0. 0. 0. 1.]], shape=(4, 4), dtype=float32)\n"
          ]
        }
      ]
    },
    {
      "cell_type": "code",
      "source": [
        "x= tf.random.normal((3,3),mean = 0, stddev=1) # Normal distribution\n",
        "print(x)"
      ],
      "metadata": {
        "colab": {
          "base_uri": "https://localhost:8080/"
        },
        "id": "IU7Bjq0jANMi",
        "outputId": "023478c4-724e-440c-d667-116ae568325b"
      },
      "execution_count": 18,
      "outputs": [
        {
          "output_type": "stream",
          "name": "stdout",
          "text": [
            "tf.Tensor(\n",
            "[[ 0.7277074  -1.0100725   0.9492415 ]\n",
            " [-0.7919278   0.7674985  -0.9630984 ]\n",
            " [ 0.34556478  0.3383569  -1.7171632 ]], shape=(3, 3), dtype=float32)\n"
          ]
        }
      ]
    },
    {
      "cell_type": "code",
      "source": [
        "x= tf.random.uniform((1,3), minval=0, maxval=1) # Uniform  distribution\n",
        "print(x)"
      ],
      "metadata": {
        "colab": {
          "base_uri": "https://localhost:8080/"
        },
        "id": "kZIrgizDAl2C",
        "outputId": "cb5d8751-abb5-41e9-efb8-a6a9f7fe8f36"
      },
      "execution_count": 19,
      "outputs": [
        {
          "output_type": "stream",
          "name": "stdout",
          "text": [
            "tf.Tensor([[0.11801445 0.9567642  0.61839664]], shape=(1, 3), dtype=float32)\n"
          ]
        }
      ]
    },
    {
      "cell_type": "code",
      "source": [
        "x= tf.range(9)\n",
        "print(x)"
      ],
      "metadata": {
        "colab": {
          "base_uri": "https://localhost:8080/"
        },
        "id": "pA9-Xd8tA_-K",
        "outputId": "60635bc8-55de-44d3-801d-d4232455f363"
      },
      "execution_count": 20,
      "outputs": [
        {
          "output_type": "stream",
          "name": "stdout",
          "text": [
            "tf.Tensor([0 1 2 3 4 5 6 7 8], shape=(9,), dtype=int32)\n"
          ]
        }
      ]
    },
    {
      "cell_type": "code",
      "source": [
        "x= tf.range(start=1, limit=30, delta=2)\n",
        "print(x)"
      ],
      "metadata": {
        "colab": {
          "base_uri": "https://localhost:8080/"
        },
        "id": "ZYaQhE8BBDBl",
        "outputId": "33fcc44a-ef28-4a29-c05c-72705467c5ea"
      },
      "execution_count": 21,
      "outputs": [
        {
          "output_type": "stream",
          "name": "stdout",
          "text": [
            "tf.Tensor([ 1  3  5  7  9 11 13 15 17 19 21 23 25 27 29], shape=(15,), dtype=int32)\n"
          ]
        }
      ]
    },
    {
      "cell_type": "code",
      "source": [
        "x= tf.cast(x,dtype=tf.float32)\n",
        "print(x)"
      ],
      "metadata": {
        "colab": {
          "base_uri": "https://localhost:8080/"
        },
        "id": "RRJDe7zWBEwG",
        "outputId": "cc4121e1-61a6-4a10-d148-162c9e3ecc16"
      },
      "execution_count": 22,
      "outputs": [
        {
          "output_type": "stream",
          "name": "stdout",
          "text": [
            "tf.Tensor([ 1.  3.  5.  7.  9. 11. 13. 15. 17. 19. 21. 23. 25. 27. 29.], shape=(15,), dtype=float32)\n"
          ]
        }
      ]
    },
    {
      "cell_type": "markdown",
      "source": [
        "#Mathimatical Operations"
      ],
      "metadata": {
        "id": "yqi0tZfT7mcS"
      }
    },
    {
      "cell_type": "code",
      "source": [
        "x= tf.constant([1,2,3])\n",
        "y =tf.constant([9,8,7])\n",
        "\n",
        "z= tf.add(x,y)\n",
        "z= x+y\n",
        "print(z)"
      ],
      "metadata": {
        "id": "vpbIcXKfBfLi"
      },
      "execution_count": null,
      "outputs": []
    },
    {
      "cell_type": "code",
      "source": [
        "z= tf.subtract(x,y)\n",
        "z=x-y\n",
        "print(z)"
      ],
      "metadata": {
        "id": "FmYuAgfoB7IN"
      },
      "execution_count": null,
      "outputs": []
    },
    {
      "cell_type": "code",
      "source": [
        "z= tf.divide(x,y)\n",
        "z= x/y\n",
        "print(z)"
      ],
      "metadata": {
        "id": "77CLVVnRB-St"
      },
      "execution_count": null,
      "outputs": []
    },
    {
      "cell_type": "code",
      "source": [
        "z= tf.multiply(x,y)\n",
        "z= x*y\n",
        "print(z)"
      ],
      "metadata": {
        "id": "FLUQSkbXCA-l"
      },
      "execution_count": null,
      "outputs": []
    },
    {
      "cell_type": "code",
      "source": [
        "z= tf.tensordot(x,y,axes=1)\n",
        "print(z)"
      ],
      "metadata": {
        "id": "l722zZAHCEac"
      },
      "execution_count": null,
      "outputs": []
    },
    {
      "cell_type": "code",
      "source": [
        "z= tf.reduce_sum(x*y,axis=0)\n",
        "print(z)"
      ],
      "metadata": {
        "id": "ulV51efLCIhc"
      },
      "execution_count": null,
      "outputs": []
    },
    {
      "cell_type": "code",
      "source": [
        "z= x**5\n",
        "print(z)"
      ],
      "metadata": {
        "id": "l1k897X_CK-F"
      },
      "execution_count": null,
      "outputs": []
    },
    {
      "cell_type": "code",
      "source": [
        "x= tf.random.normal((2,3))\n",
        "print(x)\n",
        "\n",
        "y= tf.random.normal((3,4))\n",
        "print(y)\n",
        "\n",
        "print('----------------------')\n",
        " z=tf.matmul(x,y)  # matrix multiplication\n",
        "#z = x @ y # matrix multiplication\n",
        "print(z)"
      ],
      "metadata": {
        "id": "h-Y9iRvHCMsh"
      },
      "execution_count": null,
      "outputs": []
    },
    {
      "cell_type": "markdown",
      "source": [
        "# Indexing"
      ],
      "metadata": {
        "id": "LLqkwjio7yjq"
      }
    },
    {
      "cell_type": "markdown",
      "source": [
        "#Reshaping Tensor"
      ],
      "metadata": {
        "id": "RZiPbp9P71Sr"
      }
    }
  ]
}