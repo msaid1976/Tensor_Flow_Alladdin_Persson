{
  "nbformat": 4,
  "nbformat_minor": 0,
  "metadata": {
    "colab": {
      "provenance": [],
      "gpuType": "T4",
      "authorship_tag": "ABX9TyO08ZFjY7U38QcVE51I/sT+",
      "include_colab_link": true
    },
    "kernelspec": {
      "name": "python3",
      "display_name": "Python 3"
    },
    "language_info": {
      "name": "python"
    },
    "accelerator": "GPU"
  },
  "cells": [
    {
      "cell_type": "markdown",
      "metadata": {
        "id": "view-in-github",
        "colab_type": "text"
      },
      "source": [
        "<a href=\"https://colab.research.google.com/github/msaid1976/Tensor_Flow_Alladdin_Persson/blob/main/2_Tensor_flow_Basics.ipynb\" target=\"_parent\"><img src=\"https://colab.research.google.com/assets/colab-badge.svg\" alt=\"Open In Colab\"/></a>"
      ]
    },
    {
      "cell_type": "code",
      "execution_count": 1,
      "metadata": {
        "colab": {
          "base_uri": "https://localhost:8080/"
        },
        "id": "xR48sVBk5m10",
        "outputId": "272f2263-16c2-4032-b565-524e62385e60"
      },
      "outputs": [
        {
          "output_type": "stream",
          "name": "stdout",
          "text": [
            "2.12.0\n"
          ]
        }
      ],
      "source": [
        "import tensorflow as tf\n",
        "print (tf.__version__)"
      ]
    },
    {
      "cell_type": "code",
      "source": [
        "import os\n",
        "os.environ['TF_CPP_MIN_LOG_Level'] ='2'"
      ],
      "metadata": {
        "id": "-9fXO9nS5wep"
      },
      "execution_count": 2,
      "outputs": []
    },
    {
      "cell_type": "markdown",
      "source": [
        "# Initialization of *Tensors*"
      ],
      "metadata": {
        "id": "JkSlOed77bNr"
      }
    },
    {
      "cell_type": "code",
      "source": [
        "x= tf.constant(4)\n",
        "print(x)"
      ],
      "metadata": {
        "colab": {
          "base_uri": "https://localhost:8080/"
        },
        "id": "mFj7JiZR8E1y",
        "outputId": "ca335840-f335-4258-d47f-3ca0a3986d33"
      },
      "execution_count": 3,
      "outputs": [
        {
          "output_type": "stream",
          "name": "stdout",
          "text": [
            "tf.Tensor(4, shape=(), dtype=int32)\n"
          ]
        }
      ]
    },
    {
      "cell_type": "code",
      "source": [
        "x= tf.constant(4.0, shape=(1,1))\n",
        "print(x)"
      ],
      "metadata": {
        "colab": {
          "base_uri": "https://localhost:8080/"
        },
        "id": "pXouVLT68nXt",
        "outputId": "0582ae0d-04a7-4b5b-fd3a-b6e5d38bb6ab"
      },
      "execution_count": 4,
      "outputs": [
        {
          "output_type": "stream",
          "name": "stdout",
          "text": [
            "tf.Tensor([[4.]], shape=(1, 1), dtype=float32)\n"
          ]
        }
      ]
    },
    {
      "cell_type": "code",
      "source": [
        "x= tf.constant(4, shape=(1,1),dtype=tf.float32)\n",
        "print(x)"
      ],
      "metadata": {
        "colab": {
          "base_uri": "https://localhost:8080/"
        },
        "id": "yK3AR0xw8vYx",
        "outputId": "dd521417-2486-4a1e-8097-6175cc4660de"
      },
      "execution_count": 5,
      "outputs": [
        {
          "output_type": "stream",
          "name": "stdout",
          "text": [
            "tf.Tensor([[4.]], shape=(1, 1), dtype=float32)\n"
          ]
        }
      ]
    },
    {
      "cell_type": "code",
      "source": [
        "x= tf.constant([[1,2,3],[6,7,8]], dtype=tf.int64)\n",
        "print(x)"
      ],
      "metadata": {
        "colab": {
          "base_uri": "https://localhost:8080/"
        },
        "id": "L1iOgPEp_Uuq",
        "outputId": "18f71d8a-b134-4e52-9868-c77a29709fe2"
      },
      "execution_count": 6,
      "outputs": [
        {
          "output_type": "stream",
          "name": "stdout",
          "text": [
            "tf.Tensor(\n",
            "[[1 2 3]\n",
            " [6 7 8]], shape=(2, 3), dtype=int64)\n"
          ]
        }
      ]
    },
    {
      "cell_type": "code",
      "source": [
        "x= tf.ones((3,3))\n",
        "print(x)"
      ],
      "metadata": {
        "colab": {
          "base_uri": "https://localhost:8080/"
        },
        "id": "cg8LViHy_uk0",
        "outputId": "9f607e44-e486-4be8-d109-eb7704d50550"
      },
      "execution_count": 7,
      "outputs": [
        {
          "output_type": "stream",
          "name": "stdout",
          "text": [
            "tf.Tensor(\n",
            "[[1. 1. 1.]\n",
            " [1. 1. 1.]\n",
            " [1. 1. 1.]], shape=(3, 3), dtype=float32)\n"
          ]
        }
      ]
    },
    {
      "cell_type": "code",
      "source": [
        "x= tf.zeros((4,3))\n",
        "print(x)"
      ],
      "metadata": {
        "colab": {
          "base_uri": "https://localhost:8080/"
        },
        "id": "0vx97UE3_3Iy",
        "outputId": "10d6092e-5f71-40fc-a18a-d826ff0e4ed7"
      },
      "execution_count": 8,
      "outputs": [
        {
          "output_type": "stream",
          "name": "stdout",
          "text": [
            "tf.Tensor(\n",
            "[[0. 0. 0.]\n",
            " [0. 0. 0.]\n",
            " [0. 0. 0.]\n",
            " [0. 0. 0.]], shape=(4, 3), dtype=float32)\n"
          ]
        }
      ]
    },
    {
      "cell_type": "code",
      "source": [
        "x= tf.eye(4) # Identity Matrix\n",
        "print(x)"
      ],
      "metadata": {
        "colab": {
          "base_uri": "https://localhost:8080/"
        },
        "id": "Zwidm1wfACV4",
        "outputId": "52b95a0e-0ddc-4f52-b6aa-c248d7ef2d25"
      },
      "execution_count": 9,
      "outputs": [
        {
          "output_type": "stream",
          "name": "stdout",
          "text": [
            "tf.Tensor(\n",
            "[[1. 0. 0. 0.]\n",
            " [0. 1. 0. 0.]\n",
            " [0. 0. 1. 0.]\n",
            " [0. 0. 0. 1.]], shape=(4, 4), dtype=float32)\n"
          ]
        }
      ]
    },
    {
      "cell_type": "code",
      "source": [
        "x= tf.random.normal((3,3),mean = 0, stddev=1) # Normal distribution\n",
        "print(x)"
      ],
      "metadata": {
        "colab": {
          "base_uri": "https://localhost:8080/"
        },
        "id": "IU7Bjq0jANMi",
        "outputId": "d5e45b77-cc75-4423-8e68-433014a57a90"
      },
      "execution_count": 10,
      "outputs": [
        {
          "output_type": "stream",
          "name": "stdout",
          "text": [
            "tf.Tensor(\n",
            "[[ 0.07581947  0.6423654  -0.3314324 ]\n",
            " [ 2.5281253  -2.759658   -0.47770074]\n",
            " [-0.43660372 -0.7754573  -1.1515232 ]], shape=(3, 3), dtype=float32)\n"
          ]
        }
      ]
    },
    {
      "cell_type": "code",
      "source": [
        "x= tf.random.uniform((1,3), minval=0, maxval=1) # Uniform  distribution\n",
        "print(x)"
      ],
      "metadata": {
        "colab": {
          "base_uri": "https://localhost:8080/"
        },
        "id": "kZIrgizDAl2C",
        "outputId": "621052d8-9f93-4b2d-b1fe-a9ee2755e7e5"
      },
      "execution_count": 11,
      "outputs": [
        {
          "output_type": "stream",
          "name": "stdout",
          "text": [
            "tf.Tensor([[0.30120063 0.11006629 0.5639429 ]], shape=(1, 3), dtype=float32)\n"
          ]
        }
      ]
    },
    {
      "cell_type": "code",
      "source": [
        "x= tf.range(9)\n",
        "print(x)"
      ],
      "metadata": {
        "colab": {
          "base_uri": "https://localhost:8080/"
        },
        "id": "pA9-Xd8tA_-K",
        "outputId": "d4426026-12f3-469c-be53-fc1fe46dc028"
      },
      "execution_count": 12,
      "outputs": [
        {
          "output_type": "stream",
          "name": "stdout",
          "text": [
            "tf.Tensor([0 1 2 3 4 5 6 7 8], shape=(9,), dtype=int32)\n"
          ]
        }
      ]
    },
    {
      "cell_type": "code",
      "source": [
        "x= tf.range(start=1, limit=30, delta=2)\n",
        "print(x)"
      ],
      "metadata": {
        "colab": {
          "base_uri": "https://localhost:8080/"
        },
        "id": "ZYaQhE8BBDBl",
        "outputId": "3c6dda71-a7bb-4365-e2b1-285fc64da60b"
      },
      "execution_count": 13,
      "outputs": [
        {
          "output_type": "stream",
          "name": "stdout",
          "text": [
            "tf.Tensor([ 1  3  5  7  9 11 13 15 17 19 21 23 25 27 29], shape=(15,), dtype=int32)\n"
          ]
        }
      ]
    },
    {
      "cell_type": "code",
      "source": [
        "x= tf.cast(x,dtype=tf.float32)\n",
        "print(x)"
      ],
      "metadata": {
        "colab": {
          "base_uri": "https://localhost:8080/"
        },
        "id": "RRJDe7zWBEwG",
        "outputId": "db747192-bab2-4aa2-c99c-ef44395a5637"
      },
      "execution_count": 14,
      "outputs": [
        {
          "output_type": "stream",
          "name": "stdout",
          "text": [
            "tf.Tensor([ 1.  3.  5.  7.  9. 11. 13. 15. 17. 19. 21. 23. 25. 27. 29.], shape=(15,), dtype=float32)\n"
          ]
        }
      ]
    },
    {
      "cell_type": "markdown",
      "source": [
        "#Mathimatical Operations"
      ],
      "metadata": {
        "id": "yqi0tZfT7mcS"
      }
    },
    {
      "cell_type": "code",
      "source": [
        "x= tf.constant([1,2,3])\n",
        "y =tf.constant([9,8,7])\n",
        "\n",
        "z= tf.add(x,y)\n",
        "z= x+y\n",
        "print(z)"
      ],
      "metadata": {
        "id": "vpbIcXKfBfLi",
        "outputId": "bd865d6a-a5be-4374-f474-57fdc564b2aa",
        "colab": {
          "base_uri": "https://localhost:8080/"
        }
      },
      "execution_count": 15,
      "outputs": [
        {
          "output_type": "stream",
          "name": "stdout",
          "text": [
            "tf.Tensor([10 10 10], shape=(3,), dtype=int32)\n"
          ]
        }
      ]
    },
    {
      "cell_type": "code",
      "source": [
        "z= tf.subtract(x,y)\n",
        "z=x-y\n",
        "print(z)"
      ],
      "metadata": {
        "id": "FmYuAgfoB7IN",
        "outputId": "3a090b78-7766-4530-d5bb-fba6673ab74d",
        "colab": {
          "base_uri": "https://localhost:8080/"
        }
      },
      "execution_count": 16,
      "outputs": [
        {
          "output_type": "stream",
          "name": "stdout",
          "text": [
            "tf.Tensor([-8 -6 -4], shape=(3,), dtype=int32)\n"
          ]
        }
      ]
    },
    {
      "cell_type": "code",
      "source": [
        "z= tf.divide(x,y)\n",
        "z= x/y\n",
        "print(z)"
      ],
      "metadata": {
        "id": "77CLVVnRB-St",
        "outputId": "e05e9f06-509d-4ab7-c2e3-9431fb10654b",
        "colab": {
          "base_uri": "https://localhost:8080/"
        }
      },
      "execution_count": 17,
      "outputs": [
        {
          "output_type": "stream",
          "name": "stdout",
          "text": [
            "tf.Tensor([0.11111111 0.25       0.42857143], shape=(3,), dtype=float64)\n"
          ]
        }
      ]
    },
    {
      "cell_type": "code",
      "source": [
        "z= tf.multiply(x,y)\n",
        "z= x*y\n",
        "print(z)"
      ],
      "metadata": {
        "id": "FLUQSkbXCA-l",
        "outputId": "c2bc7b2f-b1c4-4585-87a1-76ec31a5bbdc",
        "colab": {
          "base_uri": "https://localhost:8080/"
        }
      },
      "execution_count": 18,
      "outputs": [
        {
          "output_type": "stream",
          "name": "stdout",
          "text": [
            "tf.Tensor([ 9 16 21], shape=(3,), dtype=int32)\n"
          ]
        }
      ]
    },
    {
      "cell_type": "code",
      "source": [
        "z= tf.tensordot(x,y,axes=1)\n",
        "print(z)"
      ],
      "metadata": {
        "id": "l722zZAHCEac",
        "outputId": "3f30f78b-6840-42d3-e7fe-8bde78100f63",
        "colab": {
          "base_uri": "https://localhost:8080/"
        }
      },
      "execution_count": 19,
      "outputs": [
        {
          "output_type": "stream",
          "name": "stdout",
          "text": [
            "tf.Tensor(46, shape=(), dtype=int32)\n"
          ]
        }
      ]
    },
    {
      "cell_type": "code",
      "source": [
        "z= tf.reduce_sum(x*y,axis=0)\n",
        "print(z)"
      ],
      "metadata": {
        "id": "ulV51efLCIhc",
        "outputId": "400de2a1-5abf-4867-b8d1-f60345c503ab",
        "colab": {
          "base_uri": "https://localhost:8080/"
        }
      },
      "execution_count": 20,
      "outputs": [
        {
          "output_type": "stream",
          "name": "stdout",
          "text": [
            "tf.Tensor(46, shape=(), dtype=int32)\n"
          ]
        }
      ]
    },
    {
      "cell_type": "code",
      "source": [
        "z= x**5\n",
        "print(z)"
      ],
      "metadata": {
        "id": "l1k897X_CK-F",
        "outputId": "195fe63e-d68e-4c62-cb9a-0b4b00d8bfaf",
        "colab": {
          "base_uri": "https://localhost:8080/"
        }
      },
      "execution_count": 21,
      "outputs": [
        {
          "output_type": "stream",
          "name": "stdout",
          "text": [
            "tf.Tensor([  1  32 243], shape=(3,), dtype=int32)\n"
          ]
        }
      ]
    },
    {
      "cell_type": "code",
      "source": [
        "x= tf.random.normal((2,3))\n",
        "print(x)\n",
        "\n",
        "y= tf.random.normal((3,4))\n",
        "print(y)\n",
        "\n",
        "print('----------------------')\n",
        "z=tf.matmul(x,y)  # matmul -- > matrix multiplication\n",
        "#z = x @ y # matrix multiplication\n",
        "print(z)"
      ],
      "metadata": {
        "id": "h-Y9iRvHCMsh",
        "outputId": "4a9ee967-fa3c-48a5-8230-7568911c5935",
        "colab": {
          "base_uri": "https://localhost:8080/"
        }
      },
      "execution_count": 23,
      "outputs": [
        {
          "output_type": "stream",
          "name": "stdout",
          "text": [
            "tf.Tensor(\n",
            "[[-0.00804807 -1.2523228  -0.20814012]\n",
            " [-0.00610397  1.1877117  -0.92682624]], shape=(2, 3), dtype=float32)\n",
            "tf.Tensor(\n",
            "[[-0.31847003  1.2155999  -0.35183364 -0.40646684]\n",
            " [ 1.6588895   1.4529405   1.1587529   0.28149712]\n",
            " [ 1.6226323   0.2490493  -0.9043225  -2.4647686 ]], shape=(3, 4), dtype=float32)\n",
            "----------------------\n",
            "tf.Tensor(\n",
            "[[-2.412637   -1.881171   -1.2600753   0.16376325]\n",
            " [ 0.46832836  1.487429    2.2165618   2.6212306 ]], shape=(2, 4), dtype=float32)\n"
          ]
        }
      ]
    },
    {
      "cell_type": "markdown",
      "source": [
        "# Indexing"
      ],
      "metadata": {
        "id": "LLqkwjio7yjq"
      }
    },
    {
      "cell_type": "code",
      "source": [
        "x = tf.constant([0, 1, 2, 3, 4, 5, 6, 8])\n",
        "print(x[:])"
      ],
      "metadata": {
        "id": "tTiNibJtE_gL",
        "outputId": "c10e7b7f-c617-420d-bd6e-7d757dcf40ae",
        "colab": {
          "base_uri": "https://localhost:8080/"
        }
      },
      "execution_count": 28,
      "outputs": [
        {
          "output_type": "stream",
          "name": "stdout",
          "text": [
            "tf.Tensor([0 1 2 3 4 5 6 8], shape=(8,), dtype=int32)\n"
          ]
        }
      ]
    },
    {
      "cell_type": "code",
      "source": [
        "print(x[1:])"
      ],
      "metadata": {
        "id": "Wn9EHWCoFEL3",
        "outputId": "16f89d12-cf33-4cff-cedb-61e8ae03a068",
        "colab": {
          "base_uri": "https://localhost:8080/"
        }
      },
      "execution_count": 29,
      "outputs": [
        {
          "output_type": "stream",
          "name": "stdout",
          "text": [
            "tf.Tensor([1 2 3 4 5 6 8], shape=(7,), dtype=int32)\n"
          ]
        }
      ]
    },
    {
      "cell_type": "code",
      "source": [
        "print(x[1:3])"
      ],
      "metadata": {
        "id": "b2ChIaQ5FGGY",
        "outputId": "0cef6595-57bb-4d4a-e719-8a2a66c70cf3",
        "colab": {
          "base_uri": "https://localhost:8080/"
        }
      },
      "execution_count": 30,
      "outputs": [
        {
          "output_type": "stream",
          "name": "stdout",
          "text": [
            "tf.Tensor([1 2], shape=(2,), dtype=int32)\n"
          ]
        }
      ]
    },
    {
      "cell_type": "code",
      "source": [
        "print(x[::2])"
      ],
      "metadata": {
        "id": "gmTxk2qCFI17",
        "outputId": "3b35fd5e-87d9-49a8-bf8e-fbfcb20d11a2",
        "colab": {
          "base_uri": "https://localhost:8080/"
        }
      },
      "execution_count": 31,
      "outputs": [
        {
          "output_type": "stream",
          "name": "stdout",
          "text": [
            "tf.Tensor([0 2 4 6], shape=(4,), dtype=int32)\n"
          ]
        }
      ]
    },
    {
      "cell_type": "code",
      "source": [
        "print(x[::-1])"
      ],
      "metadata": {
        "id": "YZS4WX3nFNBr",
        "outputId": "318778df-9084-430c-91eb-f6d214fd89fb",
        "colab": {
          "base_uri": "https://localhost:8080/"
        }
      },
      "execution_count": 32,
      "outputs": [
        {
          "output_type": "stream",
          "name": "stdout",
          "text": [
            "tf.Tensor([8 6 5 4 3 2 1 0], shape=(8,), dtype=int32)\n"
          ]
        }
      ]
    },
    {
      "cell_type": "code",
      "source": [
        "indices = tf.constant([0, 3])\n",
        "x_indices = tf.gather(x, indices)\n",
        "print(x_indices)"
      ],
      "metadata": {
        "id": "RfxvMp81FP1R",
        "outputId": "c5b24418-8114-4c6f-cecb-d3abaf4a3c42",
        "colab": {
          "base_uri": "https://localhost:8080/"
        }
      },
      "execution_count": 35,
      "outputs": [
        {
          "output_type": "stream",
          "name": "stdout",
          "text": [
            "tf.Tensor([0 3], shape=(2,), dtype=int32)\n"
          ]
        }
      ]
    },
    {
      "cell_type": "code",
      "source": [
        "x = tf.constant([[1, 2], [3, 4], [5, 6]])\n",
        "print(x[0, :]) #first row with all of its elements"
      ],
      "metadata": {
        "id": "Put2rP24HBoI",
        "outputId": "25db2c65-a20a-4da0-9ec7-8af23338e672",
        "colab": {
          "base_uri": "https://localhost:8080/"
        }
      },
      "execution_count": 36,
      "outputs": [
        {
          "output_type": "stream",
          "name": "stdout",
          "text": [
            "tf.Tensor([1 2], shape=(2,), dtype=int32)\n"
          ]
        }
      ]
    },
    {
      "cell_type": "code",
      "source": [
        "print(x[0:2, :]) #first 2 rows with all of its elements"
      ],
      "metadata": {
        "id": "CVlfuHPFFSKD",
        "outputId": "674e7cb7-cdac-4524-bf19-91b6517eb4d4",
        "colab": {
          "base_uri": "https://localhost:8080/"
        }
      },
      "execution_count": 37,
      "outputs": [
        {
          "output_type": "stream",
          "name": "stdout",
          "text": [
            "tf.Tensor(\n",
            "[[1 2]\n",
            " [3 4]], shape=(2, 2), dtype=int32)\n"
          ]
        }
      ]
    },
    {
      "cell_type": "markdown",
      "source": [
        "#Reshaping Tensor"
      ],
      "metadata": {
        "id": "RZiPbp9P71Sr"
      }
    },
    {
      "cell_type": "code",
      "source": [
        "x = tf.range(9)\n",
        "x = tf.reshape(x, (3, 3))\n",
        "print(x)"
      ],
      "metadata": {
        "id": "odjp8J_DGLh0",
        "outputId": "fc86ef07-fb52-4174-b326-7eb58570b6c4",
        "colab": {
          "base_uri": "https://localhost:8080/"
        }
      },
      "execution_count": 38,
      "outputs": [
        {
          "output_type": "stream",
          "name": "stdout",
          "text": [
            "tf.Tensor(\n",
            "[[0 1 2]\n",
            " [3 4 5]\n",
            " [6 7 8]], shape=(3, 3), dtype=int32)\n"
          ]
        }
      ]
    },
    {
      "cell_type": "code",
      "source": [
        "x = tf.transpose(x, perm=[1, 0])\n",
        "print(x)"
      ],
      "metadata": {
        "id": "gUWiVFrlGQ8z",
        "outputId": "437de444-05d1-4c6e-ad6a-7876eb3c3d83",
        "colab": {
          "base_uri": "https://localhost:8080/"
        }
      },
      "execution_count": 39,
      "outputs": [
        {
          "output_type": "stream",
          "name": "stdout",
          "text": [
            "tf.Tensor(\n",
            "[[0 3 6]\n",
            " [1 4 7]\n",
            " [2 5 8]], shape=(3, 3), dtype=int32)\n"
          ]
        }
      ]
    }
  ]
}
