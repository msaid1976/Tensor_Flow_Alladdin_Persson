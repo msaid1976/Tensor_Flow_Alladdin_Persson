{
  "nbformat": 4,
  "nbformat_minor": 0,
  "metadata": {
    "colab": {
      "provenance": [],
      "authorship_tag": "ABX9TyPsMZy7da5CeJZZqK0IjXAg",
      "include_colab_link": true
    },
    "kernelspec": {
      "name": "python3",
      "display_name": "Python 3"
    },
    "language_info": {
      "name": "python"
    }
  },
  "cells": [
    {
      "cell_type": "markdown",
      "metadata": {
        "id": "view-in-github",
        "colab_type": "text"
      },
      "source": [
        "<a href=\"https://colab.research.google.com/github/msaid1976/Tensor_Flow_Alladdin_Persson/blob/main/6%20-%20RNNs%2C%20GRUs%2C%20LSTMs%20and%20Bidirectionality.ipynb\" target=\"_parent\"><img src=\"https://colab.research.google.com/assets/colab-badge.svg\" alt=\"Open In Colab\"/></a>"
      ]
    },
    {
      "cell_type": "code",
      "execution_count": null,
      "metadata": {
        "id": "P2lhMKQxTWw2"
      },
      "outputs": [],
      "source": [
        "import os\n",
        "os.environ[\"TF_CPP_MIN_LOG_LEVEL\"] = \"2\""
      ]
    },
    {
      "cell_type": "code",
      "source": [
        "import tensorflow as tf\n",
        "from tensorflow import keras\n",
        "from tensorflow.keras import layers\n",
        "from tensorflow.keras.datasets import mnist"
      ],
      "metadata": {
        "id": "gssjcpmDTb3I"
      },
      "execution_count": null,
      "outputs": []
    },
    {
      "cell_type": "code",
      "source": [
        "physical_devices = tf.config.list_physical_devices(\"GPU\")\n",
        "tf.config.experimental.set_memory_growth(physical_devices[0], True)"
      ],
      "metadata": {
        "id": "vZDpMOcuTqTJ"
      },
      "execution_count": null,
      "outputs": []
    },
    {
      "cell_type": "code",
      "source": [
        "(x_train, y_train), (x_test, y_test) = mnist.load_data()\n",
        "# x_train = x_train.reshape(-1, 784).astype(\"float32\") / 255.0\n",
        "# x_test = x_test.reshape(-1, 784).astype(\"float32\") / 255.0\n",
        "x_train = x_train.reshape([-1, 28, 28]).astype(\"float32\") / 255.0\n",
        "x_test = x_test.reshape([-1, 28, 28]).astype(\"float32\") / 255.0"
      ],
      "metadata": {
        "id": "ZHzSYRoMTr5X"
      },
      "execution_count": null,
      "outputs": []
    },
    {
      "cell_type": "code",
      "source": [
        "model = keras.Sequential()\n",
        "model.add(keras.Input(shape=(None, 28)))\n",
        "model.add(layers.SimpleRNN(512, return_sequences=True, activation=\"relu\"))\n",
        "model.add(layers.SimpleRNN(512, activation=\"relu\"))\n",
        "model.add(layers.Dense(10))"
      ],
      "metadata": {
        "id": "Lgug6-EnTvwX"
      },
      "execution_count": null,
      "outputs": []
    },
    {
      "cell_type": "code",
      "source": [
        "model = keras.Sequential()\n",
        "model.add(keras.Input(shape=(None, 28)))\n",
        "model.add(layers.SimpleRNN(256, return_sequences=True, activation=\"tanh\"))\n",
        "model.add(layers.SimpleRNN(256))\n",
        "model.add(layers.Dense(10))"
      ],
      "metadata": {
        "id": "J1FMldffT0pX"
      },
      "execution_count": null,
      "outputs": []
    },
    {
      "cell_type": "code",
      "source": [
        "model = keras.Sequential()\n",
        "model.add(keras.Input(shape=(None, 28)))\n",
        "model.add(layers.GRU(256, return_sequences=True, activation=\"relu\"))\n",
        "model.add(layers.GRU(256))\n",
        "model.add(layers.Dense(10))"
      ],
      "metadata": {
        "id": "X_QaUsfzT5oz"
      },
      "execution_count": null,
      "outputs": []
    },
    {
      "cell_type": "code",
      "source": [
        "model = keras.Sequential()\n",
        "model.add(keras.Input(shape=(None, 28)))\n",
        "model.add(layers.Bidirectional(layers.LSTM(256, return_sequences=True, activation=\"relu\")))\n",
        "model.add(layers.LSTM(256, name=\"lstm_layer2\"))\n",
        "model.add(layers.Dense(10))"
      ],
      "metadata": {
        "id": "RM6_umzYT6vo"
      },
      "execution_count": null,
      "outputs": []
    },
    {
      "cell_type": "code",
      "source": [
        "model = keras.Sequential()\n",
        "model.add(keras.Input(shape=(None, 28)))\n",
        "model.add(layers.Bidirectional(layers.LSTM(256, return_sequences=True, activation=\"relu\")))\n",
        "model.add(layers.Bidirectional(layers.LSTM(256, name=\"lstm_layer2\")))\n",
        "model.add(layers.Dense(10))"
      ],
      "metadata": {
        "id": "Exp5xNRUUA6_"
      },
      "execution_count": null,
      "outputs": []
    },
    {
      "cell_type": "code",
      "source": [
        "print(model.summary())"
      ],
      "metadata": {
        "id": "xaQ11kJVUItK"
      },
      "execution_count": null,
      "outputs": []
    },
    {
      "cell_type": "code",
      "source": [
        "model.compile(\n",
        "    loss=keras.losses.SparseCategoricalCrossentropy(from_logits=True),\n",
        "    optimizer=keras.optimizers.Adam(lr=0.001),\n",
        "    metrics=[\"accuracy\"],\n",
        ")"
      ],
      "metadata": {
        "id": "cJBsGSnsUMIQ"
      },
      "execution_count": null,
      "outputs": []
    },
    {
      "cell_type": "code",
      "source": [
        "model.fit(x_train, y_train, batch_size=64, epochs=10, verbose=2)"
      ],
      "metadata": {
        "id": "7zSxSGf3UPco"
      },
      "execution_count": null,
      "outputs": []
    },
    {
      "cell_type": "code",
      "source": [
        "model.evaluate(x_test, y_test, batch_size=64, verbose=2)"
      ],
      "metadata": {
        "id": "7I3p-SPnUS1o"
      },
      "execution_count": null,
      "outputs": []
    }
  ]
}