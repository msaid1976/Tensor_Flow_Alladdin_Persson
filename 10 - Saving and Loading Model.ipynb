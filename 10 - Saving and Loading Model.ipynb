{
  "nbformat": 4,
  "nbformat_minor": 0,
  "metadata": {
    "colab": {
      "provenance": [],
      "authorship_tag": "ABX9TyOOvEVLAhRQ87jSF6niT8td",
      "include_colab_link": true
    },
    "kernelspec": {
      "name": "python3",
      "display_name": "Python 3"
    },
    "language_info": {
      "name": "python"
    }
  },
  "cells": [
    {
      "cell_type": "markdown",
      "metadata": {
        "id": "view-in-github",
        "colab_type": "text"
      },
      "source": [
        "<a href=\"https://colab.research.google.com/github/msaid1976/Tensor_Flow_Alladdin_Persson/blob/main/10%20-%20Saving%20and%20Loading%20Model.ipynb\" target=\"_parent\"><img src=\"https://colab.research.google.com/assets/colab-badge.svg\" alt=\"Open In Colab\"/></a>"
      ]
    },
    {
      "cell_type": "code",
      "execution_count": null,
      "metadata": {
        "id": "cdFyJFjNYvS0"
      },
      "outputs": [],
      "source": [
        "import os\n",
        "os.environ[\"TF_CPP_MIN_LOG_LEVEL\"] = \"2\""
      ]
    },
    {
      "cell_type": "code",
      "source": [
        "import tensorflow as tf\n",
        "from tensorflow import keras\n",
        "from tensorflow.keras import layers\n",
        "from tensorflow.keras.datasets import mnist"
      ],
      "metadata": {
        "id": "4Bdv3OuDY2s-"
      },
      "execution_count": null,
      "outputs": []
    },
    {
      "cell_type": "code",
      "source": [
        "# To Avoid GPU errors\n",
        "physical_devices = tf.config.list_physical_devices(\"GPU\")\n",
        "tf.config.experimental.set_memory_growth(physical_devices[0], True)"
      ],
      "metadata": {
        "id": "-vA6cfQiY5LZ"
      },
      "execution_count": null,
      "outputs": []
    },
    {
      "cell_type": "code",
      "source": [
        "(x_train, y_train), (x_test, y_test) = mnist.load_data()\n",
        "x_train = x_train.reshape(-1, 28 * 28).astype(\"float32\") / 255.0\n",
        "x_test = x_test.reshape(-1, 28 * 28).astype(\"float32\") / 255.0"
      ],
      "metadata": {
        "id": "ei-j4tLuY6rs"
      },
      "execution_count": null,
      "outputs": []
    },
    {
      "cell_type": "code",
      "source": [
        "# Alright, so here have some code which should feel familiar from previous tutorials,\n",
        "# here is what we want to cover\n",
        "# 1. How to save and load model weights\n",
        "# 2. Save and loading entire model (Serializing model)\n",
        "#   - Saves weights\n",
        "#   - Model architecture\n",
        "#   - Training Configuration (model.compile())\n",
        "#   - Optimizer and states"
      ],
      "metadata": {
        "id": "6fjbFeZdY9Y1"
      },
      "execution_count": null,
      "outputs": []
    },
    {
      "cell_type": "code",
      "source": [
        "model1 = keras.Sequential([layers.Dense(64, activation=\"relu\"), layers.Dense(10)])\n",
        "\n",
        "inputs = keras.Input(784)\n",
        "x = layers.Dense(64, activation=\"relu\")(inputs)\n",
        "outputs = layers.Dense(10)(x)\n",
        "model2 = keras.Model(inputs=inputs, outputs=outputs)"
      ],
      "metadata": {
        "id": "HgAc9aEzY_XI"
      },
      "execution_count": null,
      "outputs": []
    },
    {
      "cell_type": "code",
      "source": [
        "class MyModel(keras.Model):\n",
        "    def __init__(self):\n",
        "        super(MyModel, self).__init__()\n",
        "        self.dense1 = layers.Dense(64, activation=\"relu\")\n",
        "        self.dense2 = layers.Dense(10)\n",
        "\n",
        "    def call(self, input_tensor):\n",
        "        x = tf.nn.relu(self.dense1(input_tensor))\n",
        "        return self.dense2(x)"
      ],
      "metadata": {
        "id": "xbxsivniZA97"
      },
      "execution_count": null,
      "outputs": []
    },
    {
      "cell_type": "code",
      "source": [
        "# SavedModel format or HDF5 format\n",
        "model3 = MyModel()\n",
        "# model = keras.models.load_model('saved_model/')\n",
        "# model.load_weights('checkpoint_folder/')"
      ],
      "metadata": {
        "id": "f_TdtODoZCoh"
      },
      "execution_count": null,
      "outputs": []
    },
    {
      "cell_type": "code",
      "source": [
        "model.compile(\n",
        "    loss=keras.losses.SparseCategoricalCrossentropy(from_logits=True),\n",
        "    optimizer=keras.optimizers.Adam(),\n",
        "    metrics=[\"accuracy\"],\n",
        ")"
      ],
      "metadata": {
        "id": "IY1EcdAdZEn3"
      },
      "execution_count": null,
      "outputs": []
    },
    {
      "cell_type": "code",
      "source": [
        "model.fit(x_train, y_train, batch_size=32, epochs=2, verbose=2)"
      ],
      "metadata": {
        "id": "d9IUewbGZGRt"
      },
      "execution_count": null,
      "outputs": []
    },
    {
      "cell_type": "code",
      "source": [
        "model.evaluate(x_test, y_test, batch_size=32, verbose=2)"
      ],
      "metadata": {
        "id": "xy4D-ktTZId3"
      },
      "execution_count": null,
      "outputs": []
    },
    {
      "cell_type": "code",
      "source": [
        "# model.save_weights('checkpoint_folder/')"
      ],
      "metadata": {
        "id": "qW4Xjb2bZJlO"
      },
      "execution_count": null,
      "outputs": []
    },
    {
      "cell_type": "code",
      "source": [
        "model.save(\"saved_model/\")"
      ],
      "metadata": {
        "id": "jPDjWF1uZKlX"
      },
      "execution_count": null,
      "outputs": []
    }
  ]
}