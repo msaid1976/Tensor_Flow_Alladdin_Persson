{
  "nbformat": 4,
  "nbformat_minor": 0,
  "metadata": {
    "colab": {
      "provenance": [],
      "authorship_tag": "ABX9TyM9dSD+uWsq5sMv8uBCdVIl",
      "include_colab_link": true
    },
    "kernelspec": {
      "name": "python3",
      "display_name": "Python 3"
    },
    "language_info": {
      "name": "python"
    }
  },
  "cells": [
    {
      "cell_type": "markdown",
      "metadata": {
        "id": "view-in-github",
        "colab_type": "text"
      },
      "source": [
        "<a href=\"https://colab.research.google.com/github/msaid1976/Tensor_Flow_Alladdin_Persson/blob/main/3_Neural_Network.ipynb\" target=\"_parent\"><img src=\"https://colab.research.google.com/assets/colab-badge.svg\" alt=\"Open In Colab\"/></a>"
      ]
    },
    {
      "cell_type": "code",
      "source": [
        "import os\n",
        "os.environ[\"TF_CPP_MIN_LOG_LEVEL\"] = \"2\""
      ],
      "metadata": {
        "id": "0a__kvZQIt2v"
      },
      "execution_count": 1,
      "outputs": []
    },
    {
      "cell_type": "code",
      "execution_count": 3,
      "metadata": {
        "id": "bylJg9QgIj9A"
      },
      "outputs": [],
      "source": [
        "import tensorflow as tf\n",
        "from tensorflow import keras\n",
        "from tensorflow.keras import layers\n",
        "from tensorflow.keras.datasets import mnist"
      ]
    },
    {
      "cell_type": "markdown",
      "source": [
        "**Keras difinition:**\n",
        "Since tensor flow 2.0, Keras has integrated with Tensorflow and it is the official higher level API and it is the GO-TO when we're building nural networksand models in TF"
      ],
      "metadata": {
        "id": "lVCMwfRqN-wM"
      }
    },
    {
      "cell_type": "markdown",
      "source": [
        "**MNist**\n",
        "It is ndataset for images of digits between 0 and 9. and we have 60 000 training set images and a 10 000 test set Images.\n",
        "\n",
        "All images ae ingay scale and have only one channel and the pixels pixels are 28X28"
      ],
      "metadata": {
        "id": "Ea6-ANWvOtq6"
      }
    },
    {
      "cell_type": "code",
      "source": [
        "# physical_devices = tf.config.list_physical_devices(\"GPU\")\n",
        "# tf.config.experimental.set_memory_growth(physical_devices[0], True)"
      ],
      "metadata": {
        "id": "oLOf5FSVIvkQ"
      },
      "execution_count": null,
      "outputs": []
    },
    {
      "cell_type": "code",
      "source": [
        "(x_train, y_train), (x_test, y_test) = mnist.load_data()"
      ],
      "metadata": {
        "colab": {
          "base_uri": "https://localhost:8080/"
        },
        "id": "_RL_TX1uI1qH",
        "outputId": "b91f43fa-6409-4cb4-9842-7a1af296fcaf"
      },
      "execution_count": 5,
      "outputs": [
        {
          "output_type": "stream",
          "name": "stdout",
          "text": [
            "Downloading data from https://storage.googleapis.com/tensorflow/tf-keras-datasets/mnist.npz\n",
            "11490434/11490434 [==============================] - 0s 0us/step\n"
          ]
        }
      ]
    },
    {
      "cell_type": "code",
      "source": [
        "print(x_train.shape)"
      ],
      "metadata": {
        "colab": {
          "base_uri": "https://localhost:8080/"
        },
        "id": "TJEbiJ09P0H-",
        "outputId": "c69d2ccd-a3e4-4225-f328-81e3d5a149f2"
      },
      "execution_count": 6,
      "outputs": [
        {
          "output_type": "stream",
          "name": "stdout",
          "text": [
            "(60000, 28, 28)\n"
          ]
        }
      ]
    },
    {
      "cell_type": "code",
      "source": [
        "print(y_train.shape)"
      ],
      "metadata": {
        "colab": {
          "base_uri": "https://localhost:8080/"
        },
        "id": "gEvVr1_3P5gy",
        "outputId": "9eeb6d17-644f-40b3-859c-f134b479c54b"
      },
      "execution_count": 7,
      "outputs": [
        {
          "output_type": "stream",
          "name": "stdout",
          "text": [
            "(60000,)\n"
          ]
        }
      ]
    },
    {
      "cell_type": "code",
      "source": [
        "x_train = x_train.reshape(-1, 28 * 28).astype(\"float32\") / 255.0   # -1 here means (Flatten the Images), keep whatever the value is on that dimension\n",
        "x_test = x_test.reshape(-1, 28 * 28).astype(\"float32\") / 255.0"
      ],
      "metadata": {
        "id": "VRWCF9HvPzFz"
      },
      "execution_count": 8,
      "outputs": []
    },
    {
      "cell_type": "markdown",
      "source": [
        "# Sequential API (Very convenient, not very flexible)"
      ],
      "metadata": {
        "id": "mpvgTjuRI4B6"
      }
    },
    {
      "cell_type": "code",
      "source": [
        "model = keras.Sequential(\n",
        "    [\n",
        "        keras.Input(shape=(28 * 28)),\n",
        "        layers.Dense(512, activation=\"relu\"),\n",
        "        layers.Dense(256, activation=\"relu\"),\n",
        "        layers.Dense(10),\n",
        "    ]\n",
        ")"
      ],
      "metadata": {
        "id": "KvmQzVlmI6Nf"
      },
      "execution_count": null,
      "outputs": []
    },
    {
      "cell_type": "code",
      "source": [
        "model = keras.Sequential()\n",
        "model.add(keras.Input(shape=(784)))\n",
        "model.add(layers.Dense(512, activation=\"relu\"))\n",
        "model.add(layers.Dense(256, activation=\"relu\", name=\"my_layer\"))\n",
        "model.add(layers.Dense(10))"
      ],
      "metadata": {
        "id": "QFbULw24JAZQ"
      },
      "execution_count": null,
      "outputs": []
    },
    {
      "cell_type": "markdown",
      "source": [
        "# Functional API (A bit more flexible)"
      ],
      "metadata": {
        "id": "gHzJBZIiJC8B"
      }
    },
    {
      "cell_type": "code",
      "source": [
        "inputs = keras.Input(shape=(784))\n",
        "x = layers.Dense(512, activation=\"relu\", name=\"first_layer\")(inputs)\n",
        "x = layers.Dense(256, activation=\"relu\", name=\"second_layer\")(x)\n",
        "outputs = layers.Dense(10, activation=\"softmax\")(x)\n",
        "model = keras.Model(inputs=inputs, outputs=outputs)"
      ],
      "metadata": {
        "id": "zcpBQ58MJCAK"
      },
      "execution_count": null,
      "outputs": []
    },
    {
      "cell_type": "code",
      "source": [
        "model.compile(\n",
        "    loss=keras.losses.SparseCategoricalCrossentropy(from_logits=False),\n",
        "    optimizer=keras.optimizers.Adam(lr=0.001),\n",
        "    metrics=[\"accuracy\"],\n",
        ")"
      ],
      "metadata": {
        "id": "CRbfCTSnJKYq"
      },
      "execution_count": null,
      "outputs": []
    },
    {
      "cell_type": "code",
      "source": [
        "model.fit(x_train, y_train, batch_size=32, epochs=5, verbose=2)"
      ],
      "metadata": {
        "id": "rxr5kw4tJMoN"
      },
      "execution_count": null,
      "outputs": []
    },
    {
      "cell_type": "code",
      "source": [
        "model.evaluate(x_test, y_test, batch_size=32, verbose=2)"
      ],
      "metadata": {
        "id": "-xuaMur4JN0v"
      },
      "execution_count": null,
      "outputs": []
    }
  ]
}